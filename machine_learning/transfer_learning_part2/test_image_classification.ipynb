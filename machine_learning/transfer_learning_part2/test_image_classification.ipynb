{
 "cells": [
  {
   "cell_type": "code",
   "execution_count": 1,
   "metadata": {},
   "outputs": [
    {
     "name": "stdout",
     "output_type": "stream",
     "text": [
      "Loading module https://tfhub.dev/google/imagenet/inception_v3/feature_vector/1\n",
      "INFO:tensorflow:Using /var/folders/g2/mr1j053546vd3sf9xx1ffz2m0000gn/T/tfhub_modules to cache modules.\n"
     ]
    },
    {
     "name": "stderr",
     "output_type": "stream",
     "text": [
      "Using TensorFlow backend.\n"
     ]
    },
    {
     "name": "stdout",
     "output_type": "stream",
     "text": [
      "Loading model\n",
      "INFO:tensorflow:Saver not created because there are no variables in the graph to restore\n",
      "Model Loaded <tensorflow.python.framework.ops.Graph object at 0x1c3f706ac8>\n",
      "Intialized graph\n",
      "<tensorflow.python.framework.ops.Graph object at 0x1c3f706ac8>\n",
      "['daisy', 'dandelion', 'roses', 'sunflowers', 'tulips']\n",
      "WARNING:tensorflow:From /Users/nikhilkarnwal/projects/machine_learning/object_detection/retraining/transfer_learning/transfer_learning.py:48: FastGFile.__init__ (from tensorflow.python.platform.gfile) is deprecated and will be removed in a future version.\n",
      "Instructions for updating:\n",
      "Use tf.gfile.GFile.\n",
      "Closing session\n",
      "(2048,)\n",
      "Shape of train data 25 by 25\n",
      "Shape of valid data 0 by 0\n",
      "Shape of test data 225 by 225\n",
      "x_train shape: (25, 2048) y_train shape: (25,)\n",
      "_________________________________________________________________\n",
      "Layer (type)                 Output Shape              Param #   \n",
      "=================================================================\n",
      "dense (Dense)                (None, 5)                 10245     \n",
      "=================================================================\n",
      "Total params: 10,245\n",
      "Trainable params: 10,245\n",
      "Non-trainable params: 0\n",
      "_________________________________________________________________\n",
      "None\n",
      "225/225 [==============================] - 0s 198us/step\n",
      "Test loss: 0.18521286288897196\n",
      "Test accuracy: 0.9377777777777778\n"
     ]
    }
   ],
   "source": [
    "from dataset_v2 import DataSet\n",
    "from image_classifier_optimized import ImageClassifier\n",
    "\n",
    "if __name__ == '__main__':\n",
    "    data_set = DataSet()\n",
    "    #Get flowers from http://download.tensorflow.org/example_images/flower_photos.tgz\n",
    "    data_set.load_dataset(\n",
    "        '/flowers.tsv',\n",
    "        '/flower_photos',\n",
    "        dimension = (299,299,3),\n",
    "        img_per_class=50)\n",
    "    data_set.split_data(0.0,0.9)\n",
    "    model_name = 'cnn_image_2_26.dense.model.best.hdf5'\n",
    "    final_model = 'cnn_image_2_26.combined.model.best.hdf5'\n",
    "    image_c_test = ImageClassifier(model_name, data_set)\n",
    "    ##Uncomment below part to train\n",
    "    #image_c_test.epochs = 10000\n",
    "    #image_c_test.train_and_save()\n",
    "    #image_c_test.load_frozen_model(model_name)\n",
    "    #image_c_test.evaluation()\n",
    "    #image_c_test.combine_model(final_model)\n",
    "    \n",
    "    #test to use already trained model.\n",
    "    image_c_test.load_and_test(final_model)"
   ]
  },
  {
   "cell_type": "code",
   "execution_count": null,
   "metadata": {},
   "outputs": [],
   "source": []
  }
 ],
 "metadata": {
  "kernelspec": {
   "display_name": "Python 3",
   "language": "python",
   "name": "python3"
  },
  "language_info": {
   "codemirror_mode": {
    "name": "ipython",
    "version": 3
   },
   "file_extension": ".py",
   "mimetype": "text/x-python",
   "name": "python",
   "nbconvert_exporter": "python",
   "pygments_lexer": "ipython3",
   "version": "3.6.8"
  }
 },
 "nbformat": 4,
 "nbformat_minor": 2
}
